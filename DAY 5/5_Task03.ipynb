{
 "cells": [
  {
   "cell_type": "code",
   "execution_count": 55,
   "id": "a82258e4-0980-4d52-8b3a-4037f7488fba",
   "metadata": {},
   "outputs": [],
   "source": [
    "import numpy as np\n",
    "import pandas as pd\n",
    "from sklearn.cluster import KMeans\n",
    "from sklearn.preprocessing import StandardScaler\n",
    "from sklearn.datasets import load_iris\n"
   ]
  },
  {
   "cell_type": "code",
   "execution_count": 57,
   "id": "cdbdb1b7-bad0-40f2-9d02-e1bf305ba283",
   "metadata": {},
   "outputs": [],
   "source": [
    "import warnings\n",
    "warnings.filterwarnings('ignore')"
   ]
  },
  {
   "cell_type": "code",
   "execution_count": 59,
   "id": "c9876103-d1d2-446a-ac0e-bab2f50bbb9b",
   "metadata": {},
   "outputs": [],
   "source": [
    "\n",
    "iris = load_iris()\n",
    "df = pd.DataFrame(iris.data, columns=iris.feature_names)\n"
   ]
  },
  {
   "cell_type": "code",
   "execution_count": 61,
   "id": "91eacad0-c60a-4a34-8a99-620216d2f6cd",
   "metadata": {},
   "outputs": [],
   "source": [
    "scaler = StandardScaler()\n",
    "data_scaled = scaler.fit_transform(df)"
   ]
  },
  {
   "cell_type": "code",
   "execution_count": 63,
   "id": "81117315-ff07-4d6a-8d51-b142935a107c",
   "metadata": {},
   "outputs": [],
   "source": [
    "cluster_labels = kmeans.labels_\n",
    "centroids = kmeans.cluster_centers_\n"
   ]
  },
  {
   "cell_type": "code",
   "execution_count": 67,
   "id": "ce4a0225-6694-4f5a-b3f5-f2bd1bf0a0f6",
   "metadata": {},
   "outputs": [
    {
     "name": "stdout",
     "output_type": "stream",
     "text": [
      "   Feature 1  Feature 2  Feature 3  Feature 4  Cluster Label\n",
      "0  -0.900681   1.019004  -1.340227  -1.315444              1\n",
      "1  -1.143017  -0.131979  -1.340227  -1.315444              1\n",
      "2  -1.385353   0.328414  -1.397064  -1.315444              1\n",
      "3  -1.506521   0.098217  -1.283389  -1.315444              1\n",
      "4  -1.021849   1.249201  -1.340227  -1.315444              1\n"
     ]
    }
   ],
   "source": [
    "\n",
    "df = pd.DataFrame(data_scaled, columns=[\"Feature 1\", \"Feature 2\", \"Feature 3\", \"Feature 4\"])\n",
    "df['Cluster Label'] = cluster_labels\n",
    "print(df.head())"
   ]
  },
  {
   "cell_type": "code",
   "execution_count": 69,
   "id": "47b7b593-57c0-4ece-81e8-899280f06b3f",
   "metadata": {},
   "outputs": [
    {
     "name": "stdout",
     "output_type": "stream",
     "text": [
      "Cluster centroids:\n",
      " [[-0.05021989 -0.88337647  0.34773781  0.2815273 ]\n",
      " [-1.01457897  0.85326268 -1.30498732 -1.25489349]\n",
      " [ 1.13597027  0.08842168  0.99615451  1.01752612]]\n"
     ]
    }
   ],
   "source": [
    "print(\"Cluster centroids:\\n\", centroids)"
   ]
  },
  {
   "cell_type": "code",
   "execution_count": null,
   "id": "4881b738-bca8-4f0a-9d69-7e1ac9c40167",
   "metadata": {},
   "outputs": [],
   "source": []
  }
 ],
 "metadata": {
  "kernelspec": {
   "display_name": "Python [conda env:base] *",
   "language": "python",
   "name": "conda-base-py"
  },
  "language_info": {
   "codemirror_mode": {
    "name": "ipython",
    "version": 3
   },
   "file_extension": ".py",
   "mimetype": "text/x-python",
   "name": "python",
   "nbconvert_exporter": "python",
   "pygments_lexer": "ipython3",
   "version": "3.12.7"
  }
 },
 "nbformat": 4,
 "nbformat_minor": 5
}
