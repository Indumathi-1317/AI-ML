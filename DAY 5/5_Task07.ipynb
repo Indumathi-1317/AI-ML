{
 "cells": [
  {
   "cell_type": "code",
   "execution_count": 1,
   "id": "06b7e009-820a-4562-aa25-b797614c7f0d",
   "metadata": {},
   "outputs": [],
   "source": [
    "import numpy as np\n",
    "import matplotlib.pyplot as plt\n",
    "from sklearn.cluster import KMeans\n",
    "from sklearn.datasets import make_blobs\n",
    "from sklearn.metrics import silhouette_score\n",
    "from sklearn.preprocessing import StandardScaler\n",
    "from sklearn.metrics.pairwise import euclidean_distances, manhattan_distances, cosine_similarity"
   ]
  },
  {
   "cell_type": "code",
   "execution_count": 3,
   "id": "85dbaa37-ad7d-4abb-b3b9-26373498dc48",
   "metadata": {},
   "outputs": [],
   "source": [
    "n_samples = 1500\n",
    "X, y = make_blobs(n_samples=n_samples, centers=4, cluster_std=1.0, random_state=42)\n",
    "scaler = StandardScaler()\n",
    "X = scaler.fit_transform(X) "
   ]
  },
  {
   "cell_type": "code",
   "execution_count": 5,
   "id": "b8bf72e0-7ba0-4a08-a08b-e109321342f7",
   "metadata": {},
   "outputs": [],
   "source": [
    "def custom_distance(X, Y, metric='euclidean'):\n",
    "    if metric == 'euclidean':\n",
    "        return euclidean_distances(X, Y)\n",
    "    elif metric == 'manhattan':\n",
    "        return manhattan_distances(X, Y)\n",
    "    elif metric == 'cosine':\n",
    "        return 1 - cosine_similarity(X, Y)\n",
    "    else:\n",
    "        raise ValueError(\"Unsupported distance metric\")"
   ]
  },
  {
   "cell_type": "code",
   "execution_count": 7,
   "id": "ea9b4720-af0b-4644-94a1-6caeb5fabf48",
   "metadata": {},
   "outputs": [],
   "source": [
    "def kmeans_with_distance_metric(X, n_clusters=4, metric='euclidean', init='k-means++'):\n",
    "    if metric in ['euclidean', 'manhattan', 'cosine']:\n",
    "        kmeans = KMeans(n_clusters=n_clusters, init=init, n_init=10, max_iter=300)\n",
    "        kmeans.fit(X)\n",
    "        return kmeans\n",
    "    else:\n",
    "        raise ValueError(\"Unsupported distance metric\")"
   ]
  },
  {
   "cell_type": "code",
   "execution_count": 9,
   "id": "bf3a8314-4fa2-4267-b751-03f82bf68339",
   "metadata": {},
   "outputs": [],
   "source": [
    "init_methods = ['random', 'k-means++']\n",
    "distance_metrics = ['euclidean', 'manhattan', 'cosine']\n",
    "results = []\n",
    "\n",
    "for init_method in init_methods:\n",
    "    for dist_metric in distance_metrics:\n",
    "        kmeans_model = kmeans_with_distance_metric(X, init=init_method, metric=dist_metric)\n",
    "        score = silhouette_score(X, kmeans_model.labels_)\n",
    "        results.append((init_method, dist_metric, score))"
   ]
  },
  {
   "cell_type": "code",
   "execution_count": 11,
   "id": "3ba6fb1b-3a63-4ae1-8ec1-d55d3c574d1c",
   "metadata": {},
   "outputs": [
    {
     "name": "stdout",
     "output_type": "stream",
     "text": [
      "Comparison of different K-means configurations:\n",
      "Initialization: random, Distance Metric: euclidean, Silhouette Score: 0.7962\n",
      "Initialization: random, Distance Metric: manhattan, Silhouette Score: 0.7962\n",
      "Initialization: random, Distance Metric: cosine, Silhouette Score: 0.7962\n",
      "Initialization: k-means++, Distance Metric: euclidean, Silhouette Score: 0.7962\n",
      "Initialization: k-means++, Distance Metric: manhattan, Silhouette Score: 0.7962\n",
      "Initialization: k-means++, Distance Metric: cosine, Silhouette Score: 0.7962\n"
     ]
    }
   ],
   "source": [
    "print(\"Comparison of different K-means configurations:\")\n",
    "for result in results:\n",
    "    print(f\"Initialization: {result[0]}, Distance Metric: {result[1]}, Silhouette Score: {result[2]:.4f}\")\n",
    "\n",
    "# Visualize the clusters"
   ]
  },
  {
   "cell_type": "code",
   "execution_count": null,
   "id": "7715eed1-ba1d-4b60-9ec3-4f2648a8bd9f",
   "metadata": {},
   "outputs": [],
   "source": []
  }
 ],
 "metadata": {
  "kernelspec": {
   "display_name": "Python [conda env:base] *",
   "language": "python",
   "name": "conda-base-py"
  },
  "language_info": {
   "codemirror_mode": {
    "name": "ipython",
    "version": 3
   },
   "file_extension": ".py",
   "mimetype": "text/x-python",
   "name": "python",
   "nbconvert_exporter": "python",
   "pygments_lexer": "ipython3",
   "version": "3.12.7"
  }
 },
 "nbformat": 4,
 "nbformat_minor": 5
}
